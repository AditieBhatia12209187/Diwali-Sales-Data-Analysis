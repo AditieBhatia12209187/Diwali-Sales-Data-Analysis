{
 "cells": [
  {
   "cell_type": "markdown",
   "id": "31cf3758",
   "metadata": {},
   "source": [
    "# Data Analysis Project Life Cycle\n",
    "- **Business Problem Understanding**\n",
    "- **Data Collection**\n",
    "- **Data Pre-processing**\n",
    "- **Exploratory Data Analysis**\n",
    "- **Reporting**"
   ]
  },
  {
   "cell_type": "markdown",
   "id": "854658d9",
   "metadata": {},
   "source": [
    "## Business Problem\n",
    "**Client wants us to analyze diwali sales data in  order to understand the trend, insights, top performing products, categories, zones to that they can prepare better to improve sales.**"
   ]
  },
  {
   "cell_type": "markdown",
   "id": "a6a5818e",
   "metadata": {},
   "source": [
    "## Data Collection\n",
    "- Client has provided historical data in csv file\n",
    "- Link: https://drive.google.com/file/d/1mGY1doT8RRTgIS0eZsiexHOjUIel9pvo/view?usp=sharing"
   ]
  },
  {
   "cell_type": "code",
   "execution_count": 2,
   "id": "b2c4cd79",
   "metadata": {},
   "outputs": [],
   "source": [
    "# Importing the libraries\n",
    "import numpy as np\n",
    "import pandas as pd\n",
    "import matplotlib.pyplot as plt\n",
    "import seaborn as sns"
   ]
  },
  {
   "cell_type": "code",
   "execution_count": 3,
   "id": "d66f76eb",
   "metadata": {},
   "outputs": [],
   "source": [
    "# Loading the dataset\n",
    "data = pd.read_csv(r\"C:\\Users\\Pracheeta\\Desktop\\training\\Diwali Sales Data.csv\", encoding = 'unicode_escape')"
   ]
  },
  {
   "cell_type": "code",
   "execution_count": 4,
   "id": "9c1c5a96",
   "metadata": {
    "scrolled": true
   },
   "outputs": [
    {
     "data": {
      "text/html": [
       "<div>\n",
       "<style scoped>\n",
       "    .dataframe tbody tr th:only-of-type {\n",
       "        vertical-align: middle;\n",
       "    }\n",
       "\n",
       "    .dataframe tbody tr th {\n",
       "        vertical-align: top;\n",
       "    }\n",
       "\n",
       "    .dataframe thead th {\n",
       "        text-align: right;\n",
       "    }\n",
       "</style>\n",
       "<table border=\"1\" class=\"dataframe\">\n",
       "  <thead>\n",
       "    <tr style=\"text-align: right;\">\n",
       "      <th></th>\n",
       "      <th>Unnamed: 0</th>\n",
       "      <th>User_ID</th>\n",
       "      <th>Cust_name</th>\n",
       "      <th>Product_ID</th>\n",
       "      <th>Gender</th>\n",
       "      <th>Age Group</th>\n",
       "      <th>Age</th>\n",
       "      <th>Marital_Status</th>\n",
       "      <th>State</th>\n",
       "      <th>Zone</th>\n",
       "      <th>Occupation</th>\n",
       "      <th>Product_Category</th>\n",
       "      <th>Orders</th>\n",
       "      <th>Amount</th>\n",
       "      <th>marraige_status</th>\n",
       "    </tr>\n",
       "  </thead>\n",
       "  <tbody>\n",
       "    <tr>\n",
       "      <th>0</th>\n",
       "      <td>18</td>\n",
       "      <td>1001883.0</td>\n",
       "      <td>Praneet</td>\n",
       "      <td>P00029842</td>\n",
       "      <td>M</td>\n",
       "      <td>26-35</td>\n",
       "      <td>54.0</td>\n",
       "      <td>1.0</td>\n",
       "      <td>Uttar Pradesh</td>\n",
       "      <td>Central</td>\n",
       "      <td>Hospitality</td>\n",
       "      <td>Auto</td>\n",
       "      <td>1.0</td>\n",
       "      <td>23568.0</td>\n",
       "      <td>Married</td>\n",
       "    </tr>\n",
       "    <tr>\n",
       "      <th>1</th>\n",
       "      <td>19</td>\n",
       "      <td>1001883.0</td>\n",
       "      <td>Praneet</td>\n",
       "      <td>P00029842</td>\n",
       "      <td>M</td>\n",
       "      <td>26-35</td>\n",
       "      <td>54.0</td>\n",
       "      <td>1.0</td>\n",
       "      <td>Uttar Pradesh</td>\n",
       "      <td>Central</td>\n",
       "      <td>Hospitality</td>\n",
       "      <td>Auto</td>\n",
       "      <td>1.0</td>\n",
       "      <td>23568.0</td>\n",
       "      <td>Married</td>\n",
       "    </tr>\n",
       "    <tr>\n",
       "      <th>2</th>\n",
       "      <td>20</td>\n",
       "      <td>1000113.0</td>\n",
       "      <td>Ellis</td>\n",
       "      <td>P00180642</td>\n",
       "      <td>F</td>\n",
       "      <td>26-35</td>\n",
       "      <td>19.0</td>\n",
       "      <td>1.0</td>\n",
       "      <td>Andhra Pradesh</td>\n",
       "      <td>Southern</td>\n",
       "      <td>Govt</td>\n",
       "      <td>Auto</td>\n",
       "      <td>4.0</td>\n",
       "      <td>23546.0</td>\n",
       "      <td>Married</td>\n",
       "    </tr>\n",
       "    <tr>\n",
       "      <th>3</th>\n",
       "      <td>21</td>\n",
       "      <td>1000416.0</td>\n",
       "      <td>Hrisheekesh</td>\n",
       "      <td>P00181842</td>\n",
       "      <td>F</td>\n",
       "      <td>26-35</td>\n",
       "      <td>46.0</td>\n",
       "      <td>1.0</td>\n",
       "      <td>Uttar Pradesh</td>\n",
       "      <td>Central</td>\n",
       "      <td>Banking</td>\n",
       "      <td>Auto</td>\n",
       "      <td>2.0</td>\n",
       "      <td>23525.0</td>\n",
       "      <td>Married</td>\n",
       "    </tr>\n",
       "    <tr>\n",
       "      <th>4</th>\n",
       "      <td>22</td>\n",
       "      <td>1005256.0</td>\n",
       "      <td>Grant</td>\n",
       "      <td>P00101742</td>\n",
       "      <td>F</td>\n",
       "      <td>26-35</td>\n",
       "      <td>30.0</td>\n",
       "      <td>0.0</td>\n",
       "      <td>Andhra Pradesh</td>\n",
       "      <td>Southern</td>\n",
       "      <td>IT Sector</td>\n",
       "      <td>Auto</td>\n",
       "      <td>1.0</td>\n",
       "      <td>23518.0</td>\n",
       "      <td>Unmarried</td>\n",
       "    </tr>\n",
       "  </tbody>\n",
       "</table>\n",
       "</div>"
      ],
      "text/plain": [
       "   Unnamed: 0    User_ID    Cust_name Product_ID Gender Age Group   Age  \\\n",
       "0          18  1001883.0      Praneet  P00029842      M     26-35  54.0   \n",
       "1          19  1001883.0      Praneet  P00029842      M     26-35  54.0   \n",
       "2          20  1000113.0        Ellis  P00180642      F     26-35  19.0   \n",
       "3          21  1000416.0  Hrisheekesh  P00181842      F     26-35  46.0   \n",
       "4          22  1005256.0        Grant  P00101742      F     26-35  30.0   \n",
       "\n",
       "   Marital_Status           State      Zone   Occupation Product_Category  \\\n",
       "0             1.0   Uttar Pradesh   Central  Hospitality             Auto   \n",
       "1             1.0   Uttar Pradesh   Central  Hospitality             Auto   \n",
       "2             1.0  Andhra Pradesh  Southern         Govt             Auto   \n",
       "3             1.0   Uttar Pradesh   Central      Banking             Auto   \n",
       "4             0.0  Andhra Pradesh  Southern    IT Sector             Auto   \n",
       "\n",
       "   Orders   Amount marraige_status  \n",
       "0     1.0  23568.0         Married  \n",
       "1     1.0  23568.0         Married  \n",
       "2     4.0  23546.0         Married  \n",
       "3     2.0  23525.0         Married  \n",
       "4     1.0  23518.0       Unmarried  "
      ]
     },
     "execution_count": 4,
     "metadata": {},
     "output_type": "execute_result"
    }
   ],
   "source": [
    "# checking the data\n",
    "data.head()"
   ]
  },
  {
   "cell_type": "code",
   "execution_count": 7,
   "id": "04a66eb4",
   "metadata": {},
   "outputs": [],
   "source": [
    "# creating a copy of the dataset\n",
    "df = data.copy()"
   ]
  },
  {
   "cell_type": "markdown",
   "id": "7d2ac985",
   "metadata": {},
   "source": [
    "## Data Pre-processing\n",
    "- **Data Profiling**\n",
    "- **Data Cleaning**\n",
    "- **Data Consistancy**\n",
    "- **Data Formatting**\n",
    "- **Outlier Detection & Removal**"
   ]
  },
  {
   "cell_type": "code",
   "execution_count": 8,
   "id": "484cc02b",
   "metadata": {},
   "outputs": [
    {
     "data": {
      "text/plain": [
       "(11234, 15)"
      ]
     },
     "execution_count": 8,
     "metadata": {},
     "output_type": "execute_result"
    }
   ],
   "source": [
    "df.shape"
   ]
  },
  {
   "cell_type": "code",
   "execution_count": 9,
   "id": "19540a9c",
   "metadata": {},
   "outputs": [
    {
     "name": "stdout",
     "output_type": "stream",
     "text": [
      "<class 'pandas.core.frame.DataFrame'>\n",
      "RangeIndex: 11234 entries, 0 to 11233\n",
      "Data columns (total 15 columns):\n",
      " #   Column            Non-Null Count  Dtype  \n",
      "---  ------            --------------  -----  \n",
      " 0   Unnamed: 0        11234 non-null  int64  \n",
      " 1   User_ID           11234 non-null  float64\n",
      " 2   Cust_name         11234 non-null  object \n",
      " 3   Product_ID        11234 non-null  object \n",
      " 4   Gender            11234 non-null  object \n",
      " 5   Age Group         11234 non-null  object \n",
      " 6   Age               11234 non-null  float64\n",
      " 7   Marital_Status    11234 non-null  float64\n",
      " 8   State             11234 non-null  object \n",
      " 9   Zone              11234 non-null  object \n",
      " 10  Occupation        11234 non-null  object \n",
      " 11  Product_Category  11234 non-null  object \n",
      " 12  Orders            11234 non-null  float64\n",
      " 13  Amount            11234 non-null  float64\n",
      " 14  marraige_status   11234 non-null  object \n",
      "dtypes: float64(5), int64(1), object(9)\n",
      "memory usage: 1.3+ MB\n"
     ]
    }
   ],
   "source": [
    "df.info()"
   ]
  },
  {
   "cell_type": "code",
   "execution_count": 13,
   "id": "19b6ee2b",
   "metadata": {},
   "outputs": [
    {
     "data": {
      "text/plain": [
       "Unnamed: 0          0\n",
       "User_ID             0\n",
       "Cust_name           0\n",
       "Product_ID          0\n",
       "Gender              0\n",
       "Age Group           0\n",
       "Age                 0\n",
       "Marital_Status      0\n",
       "State               0\n",
       "Zone                0\n",
       "Occupation          0\n",
       "Product_Category    0\n",
       "Orders              0\n",
       "Amount              0\n",
       "marraige_status     0\n",
       "dtype: int64"
      ]
     },
     "execution_count": 13,
     "metadata": {},
     "output_type": "execute_result"
    }
   ],
   "source": [
    "# null values\n",
    "null_values = df.isna().sum()\n",
    "null_values"
   ]
  },
  {
   "cell_type": "code",
   "execution_count": 14,
   "id": "75f14cc3",
   "metadata": {},
   "outputs": [
    {
     "data": {
      "text/plain": [
       "Unnamed: 0          0.0\n",
       "User_ID             0.0\n",
       "Cust_name           0.0\n",
       "Product_ID          0.0\n",
       "Gender              0.0\n",
       "Age Group           0.0\n",
       "Age                 0.0\n",
       "Marital_Status      0.0\n",
       "State               0.0\n",
       "Zone                0.0\n",
       "Occupation          0.0\n",
       "Product_Category    0.0\n",
       "Orders              0.0\n",
       "Amount              0.0\n",
       "marraige_status     0.0\n",
       "dtype: float64"
      ]
     },
     "execution_count": 14,
     "metadata": {},
     "output_type": "execute_result"
    }
   ],
   "source": [
    "null_values_percentage = (df.isna().sum()/(df.shape[0]))*100\n",
    "null_values_percentage"
   ]
  },
  {
   "cell_type": "code",
   "execution_count": 15,
   "id": "827ecddc",
   "metadata": {},
   "outputs": [
    {
     "data": {
      "text/html": [
       "<div>\n",
       "<style scoped>\n",
       "    .dataframe tbody tr th:only-of-type {\n",
       "        vertical-align: middle;\n",
       "    }\n",
       "\n",
       "    .dataframe tbody tr th {\n",
       "        vertical-align: top;\n",
       "    }\n",
       "\n",
       "    .dataframe thead th {\n",
       "        text-align: right;\n",
       "    }\n",
       "</style>\n",
       "<table border=\"1\" class=\"dataframe\">\n",
       "  <thead>\n",
       "    <tr style=\"text-align: right;\">\n",
       "      <th></th>\n",
       "      <th>0</th>\n",
       "      <th>1</th>\n",
       "    </tr>\n",
       "  </thead>\n",
       "  <tbody>\n",
       "    <tr>\n",
       "      <th>Unnamed: 0</th>\n",
       "      <td>0</td>\n",
       "      <td>0.0</td>\n",
       "    </tr>\n",
       "    <tr>\n",
       "      <th>User_ID</th>\n",
       "      <td>0</td>\n",
       "      <td>0.0</td>\n",
       "    </tr>\n",
       "    <tr>\n",
       "      <th>Cust_name</th>\n",
       "      <td>0</td>\n",
       "      <td>0.0</td>\n",
       "    </tr>\n",
       "    <tr>\n",
       "      <th>Product_ID</th>\n",
       "      <td>0</td>\n",
       "      <td>0.0</td>\n",
       "    </tr>\n",
       "    <tr>\n",
       "      <th>Gender</th>\n",
       "      <td>0</td>\n",
       "      <td>0.0</td>\n",
       "    </tr>\n",
       "    <tr>\n",
       "      <th>Age Group</th>\n",
       "      <td>0</td>\n",
       "      <td>0.0</td>\n",
       "    </tr>\n",
       "    <tr>\n",
       "      <th>Age</th>\n",
       "      <td>0</td>\n",
       "      <td>0.0</td>\n",
       "    </tr>\n",
       "    <tr>\n",
       "      <th>Marital_Status</th>\n",
       "      <td>0</td>\n",
       "      <td>0.0</td>\n",
       "    </tr>\n",
       "    <tr>\n",
       "      <th>State</th>\n",
       "      <td>0</td>\n",
       "      <td>0.0</td>\n",
       "    </tr>\n",
       "    <tr>\n",
       "      <th>Zone</th>\n",
       "      <td>0</td>\n",
       "      <td>0.0</td>\n",
       "    </tr>\n",
       "    <tr>\n",
       "      <th>Occupation</th>\n",
       "      <td>0</td>\n",
       "      <td>0.0</td>\n",
       "    </tr>\n",
       "    <tr>\n",
       "      <th>Product_Category</th>\n",
       "      <td>0</td>\n",
       "      <td>0.0</td>\n",
       "    </tr>\n",
       "    <tr>\n",
       "      <th>Orders</th>\n",
       "      <td>0</td>\n",
       "      <td>0.0</td>\n",
       "    </tr>\n",
       "    <tr>\n",
       "      <th>Amount</th>\n",
       "      <td>0</td>\n",
       "      <td>0.0</td>\n",
       "    </tr>\n",
       "    <tr>\n",
       "      <th>marraige_status</th>\n",
       "      <td>0</td>\n",
       "      <td>0.0</td>\n",
       "    </tr>\n",
       "  </tbody>\n",
       "</table>\n",
       "</div>"
      ],
      "text/plain": [
       "                  0    1\n",
       "Unnamed: 0        0  0.0\n",
       "User_ID           0  0.0\n",
       "Cust_name         0  0.0\n",
       "Product_ID        0  0.0\n",
       "Gender            0  0.0\n",
       "Age Group         0  0.0\n",
       "Age               0  0.0\n",
       "Marital_Status    0  0.0\n",
       "State             0  0.0\n",
       "Zone              0  0.0\n",
       "Occupation        0  0.0\n",
       "Product_Category  0  0.0\n",
       "Orders            0  0.0\n",
       "Amount            0  0.0\n",
       "marraige_status   0  0.0"
      ]
     },
     "execution_count": 15,
     "metadata": {},
     "output_type": "execute_result"
    }
   ],
   "source": [
    "pd.concat([null_values, null_values_percentage], axis =1)"
   ]
  },
  {
   "cell_type": "code",
   "execution_count": 16,
   "id": "6dc36d88",
   "metadata": {},
   "outputs": [
    {
     "data": {
      "text/plain": [
       "Index(['Unnamed: 0', 'User_ID', 'Cust_name', 'Product_ID', 'Gender',\n",
       "       'Age Group', 'Age', 'Marital_Status', 'State', 'Zone', 'Occupation',\n",
       "       'Product_Category', 'Orders', 'Amount', 'marraige_status'],\n",
       "      dtype='object')"
      ]
     },
     "execution_count": 16,
     "metadata": {},
     "output_type": "execute_result"
    }
   ],
   "source": [
    "# All columns\n",
    "all_columns = df.columns\n",
    "all_columns"
   ]
  },
  {
   "cell_type": "code",
   "execution_count": 17,
   "id": "b2903627",
   "metadata": {},
   "outputs": [
    {
     "data": {
      "text/plain": [
       "Index(['Unnamed: 0', 'User_ID', 'Age', 'Marital_Status', 'Orders', 'Amount'], dtype='object')"
      ]
     },
     "execution_count": 17,
     "metadata": {},
     "output_type": "execute_result"
    }
   ],
   "source": [
    "# Numeric columns\n",
    "numeric_columns = df.select_dtypes(include = np.number).columns\n",
    "numeric_columns"
   ]
  },
  {
   "cell_type": "code",
   "execution_count": 18,
   "id": "7aea2cfb",
   "metadata": {},
   "outputs": [
    {
     "data": {
      "text/plain": [
       "Index(['Cust_name', 'Product_ID', 'Gender', 'Age Group', 'State', 'Zone',\n",
       "       'Occupation', 'Product_Category', 'marraige_status'],\n",
       "      dtype='object')"
      ]
     },
     "execution_count": 18,
     "metadata": {},
     "output_type": "execute_result"
    }
   ],
   "source": [
    "# Non-numeric columns\n",
    "non_numeric_columns = df.select_dtypes(include = object).columns\n",
    "non_numeric_columns"
   ]
  },
  {
   "cell_type": "code",
   "execution_count": 19,
   "id": "81a6c492",
   "metadata": {},
   "outputs": [
    {
     "data": {
      "text/plain": [
       "0        False\n",
       "1        False\n",
       "2        False\n",
       "3        False\n",
       "4        False\n",
       "         ...  \n",
       "11229    False\n",
       "11230    False\n",
       "11231    False\n",
       "11232    False\n",
       "11233    False\n",
       "Length: 11234, dtype: bool"
      ]
     },
     "execution_count": 19,
     "metadata": {},
     "output_type": "execute_result"
    }
   ],
   "source": [
    "# Duplicate values\n",
    "df.duplicated()"
   ]
  },
  {
   "cell_type": "code",
   "execution_count": 20,
   "id": "b4a96e66",
   "metadata": {},
   "outputs": [
    {
     "data": {
      "text/html": [
       "<div>\n",
       "<style scoped>\n",
       "    .dataframe tbody tr th:only-of-type {\n",
       "        vertical-align: middle;\n",
       "    }\n",
       "\n",
       "    .dataframe tbody tr th {\n",
       "        vertical-align: top;\n",
       "    }\n",
       "\n",
       "    .dataframe thead th {\n",
       "        text-align: right;\n",
       "    }\n",
       "</style>\n",
       "<table border=\"1\" class=\"dataframe\">\n",
       "  <thead>\n",
       "    <tr style=\"text-align: right;\">\n",
       "      <th></th>\n",
       "      <th>Unnamed: 0</th>\n",
       "      <th>User_ID</th>\n",
       "      <th>Cust_name</th>\n",
       "      <th>Product_ID</th>\n",
       "      <th>Gender</th>\n",
       "      <th>Age Group</th>\n",
       "      <th>Age</th>\n",
       "      <th>Marital_Status</th>\n",
       "      <th>State</th>\n",
       "      <th>Zone</th>\n",
       "      <th>Occupation</th>\n",
       "      <th>Product_Category</th>\n",
       "      <th>Orders</th>\n",
       "      <th>Amount</th>\n",
       "      <th>marraige_status</th>\n",
       "    </tr>\n",
       "  </thead>\n",
       "  <tbody>\n",
       "  </tbody>\n",
       "</table>\n",
       "</div>"
      ],
      "text/plain": [
       "Empty DataFrame\n",
       "Columns: [Unnamed: 0, User_ID, Cust_name, Product_ID, Gender, Age Group, Age, Marital_Status, State, Zone, Occupation, Product_Category, Orders, Amount, marraige_status]\n",
       "Index: []"
      ]
     },
     "execution_count": 20,
     "metadata": {},
     "output_type": "execute_result"
    }
   ],
   "source": [
    "# Filtering out the duplicate entries\n",
    "df = df[~df.duplicated()]\n",
    "df[df.duplicated()]"
   ]
  },
  {
   "cell_type": "code",
   "execution_count": 21,
   "id": "c562f7bc",
   "metadata": {},
   "outputs": [
    {
     "data": {
      "text/plain": [
       "Index(['Unnamed: 0', 'User_ID', 'Cust_name', 'Product_ID', 'Gender',\n",
       "       'Age Group', 'Age', 'Marital_Status', 'State', 'Zone', 'Occupation',\n",
       "       'Product_Category', 'Orders', 'Amount', 'marraige_status'],\n",
       "      dtype='object')"
      ]
     },
     "execution_count": 21,
     "metadata": {},
     "output_type": "execute_result"
    }
   ],
   "source": [
    "df.columns"
   ]
  },
  {
   "cell_type": "markdown",
   "id": "634c68f2",
   "metadata": {},
   "source": [
    "### Data Profiling\n",
    "1. **Amount**\n",
    "   - Need to change the data type from object to integer\n",
    "   - The rows corresponding to null values should be dropped\n",
    "   - Need to drop the rows Corresponding to values 'abcde'\n",
    "   \n",
    "2. **Status & unnamed1**\n",
    "   - No data, should be dropped\n",
    "   \n",
    "3. **Orders**\n",
    "   - Null values has to be dropped\n",
    "   - There is outliers which can be removed\n",
    "   \n",
    "4. **State**\n",
    "   - Andhra\\xa0Pradesh & Nndhra\\xa0Pradesh should be replaced with 'Andhra Pradesh'\n",
    "   - Drop the rows corresponding to null values\n",
    " \n",
    "5. **Zone**\n",
    "   - Drop the rows corresponding to null values\n",
    "   - 'Zentral' should be replaced with 'Central'\n",
    "   \n",
    "6. **Product_ID**\n",
    "   -  Drop the rows corresponding to null values\n",
    "   \n",
    "7. **Marital Status**\n",
    "   - Null values can be replaced with mode\n",
    "   - Will create a new column where '1' can be replaced with 'Married' and '0' with unmarried\n",
    "   \n",
    "8. **Age**\n",
    "   - 'Age' can be replaced with mode\n",
    "   - Null values can be replaced with mode\n",
    "   - Data type needs to be changed from object to numeric\n",
    "\n",
    "9. **Age Group**\n",
    "   - 'low-high' can be replaced with mode\n",
    "   - Null values can be replaced with mode\n",
    "\n",
    "10. **Product_Category**\n",
    "    - Null values can be dropped\n",
    "   \n",
    "11. **Gender, Occupation**\n",
    "     - Null values can be replaced with mod"
   ]
  },
  {
   "cell_type": "markdown",
   "id": "cb50d827",
   "metadata": {},
   "source": [
    "**Data cleaning**"
   ]
  },
  {
   "cell_type": "markdown",
   "id": "e59a09b9",
   "metadata": {},
   "source": [
    "status and unnamed1"
   ]
  },
  {
   "cell_type": "code",
   "execution_count": 22,
   "id": "28df6025",
   "metadata": {},
   "outputs": [
    {
     "ename": "KeyError",
     "evalue": "\"['Status', 'unnamed1'] not found in axis\"",
     "output_type": "error",
     "traceback": [
      "\u001b[1;31m---------------------------------------------------------------------------\u001b[0m",
      "\u001b[1;31mKeyError\u001b[0m                                  Traceback (most recent call last)",
      "\u001b[1;32m~\\AppData\\Local\\Temp\\ipykernel_2060\\1831026383.py\u001b[0m in \u001b[0;36m<module>\u001b[1;34m\u001b[0m\n\u001b[0;32m      1\u001b[0m \u001b[1;31m# Dropping Columns\u001b[0m\u001b[1;33m\u001b[0m\u001b[1;33m\u001b[0m\u001b[0m\n\u001b[1;32m----> 2\u001b[1;33m \u001b[0mdf\u001b[0m\u001b[1;33m.\u001b[0m\u001b[0mdrop\u001b[0m\u001b[1;33m(\u001b[0m\u001b[1;33m[\u001b[0m\u001b[1;34m'Status'\u001b[0m \u001b[1;33m,\u001b[0m \u001b[1;34m'unnamed1'\u001b[0m\u001b[1;33m]\u001b[0m\u001b[1;33m,\u001b[0m\u001b[0maxis\u001b[0m \u001b[1;33m=\u001b[0m\u001b[1;36m1\u001b[0m\u001b[1;33m,\u001b[0m \u001b[0minplace\u001b[0m \u001b[1;33m=\u001b[0m \u001b[1;32mTrue\u001b[0m\u001b[1;33m)\u001b[0m\u001b[1;33m\u001b[0m\u001b[1;33m\u001b[0m\u001b[0m\n\u001b[0m\u001b[0;32m      3\u001b[0m \u001b[0mdf\u001b[0m\u001b[1;33m.\u001b[0m\u001b[0mhead\u001b[0m\u001b[1;33m(\u001b[0m\u001b[1;36m2\u001b[0m\u001b[1;33m)\u001b[0m\u001b[1;33m\u001b[0m\u001b[1;33m\u001b[0m\u001b[0m\n",
      "\u001b[1;32m~\\anaconda3\\lib\\site-packages\\pandas\\util\\_decorators.py\u001b[0m in \u001b[0;36mwrapper\u001b[1;34m(*args, **kwargs)\u001b[0m\n\u001b[0;32m    309\u001b[0m                     \u001b[0mstacklevel\u001b[0m\u001b[1;33m=\u001b[0m\u001b[0mstacklevel\u001b[0m\u001b[1;33m,\u001b[0m\u001b[1;33m\u001b[0m\u001b[1;33m\u001b[0m\u001b[0m\n\u001b[0;32m    310\u001b[0m                 )\n\u001b[1;32m--> 311\u001b[1;33m             \u001b[1;32mreturn\u001b[0m \u001b[0mfunc\u001b[0m\u001b[1;33m(\u001b[0m\u001b[1;33m*\u001b[0m\u001b[0margs\u001b[0m\u001b[1;33m,\u001b[0m \u001b[1;33m**\u001b[0m\u001b[0mkwargs\u001b[0m\u001b[1;33m)\u001b[0m\u001b[1;33m\u001b[0m\u001b[1;33m\u001b[0m\u001b[0m\n\u001b[0m\u001b[0;32m    312\u001b[0m \u001b[1;33m\u001b[0m\u001b[0m\n\u001b[0;32m    313\u001b[0m         \u001b[1;32mreturn\u001b[0m \u001b[0mwrapper\u001b[0m\u001b[1;33m\u001b[0m\u001b[1;33m\u001b[0m\u001b[0m\n",
      "\u001b[1;32m~\\anaconda3\\lib\\site-packages\\pandas\\core\\frame.py\u001b[0m in \u001b[0;36mdrop\u001b[1;34m(self, labels, axis, index, columns, level, inplace, errors)\u001b[0m\n\u001b[0;32m   4955\u001b[0m                 \u001b[0mweight\u001b[0m  \u001b[1;36m1.0\u001b[0m     \u001b[1;36m0.8\u001b[0m\u001b[1;33m\u001b[0m\u001b[1;33m\u001b[0m\u001b[0m\n\u001b[0;32m   4956\u001b[0m         \"\"\"\n\u001b[1;32m-> 4957\u001b[1;33m         return super().drop(\n\u001b[0m\u001b[0;32m   4958\u001b[0m             \u001b[0mlabels\u001b[0m\u001b[1;33m=\u001b[0m\u001b[0mlabels\u001b[0m\u001b[1;33m,\u001b[0m\u001b[1;33m\u001b[0m\u001b[1;33m\u001b[0m\u001b[0m\n\u001b[0;32m   4959\u001b[0m             \u001b[0maxis\u001b[0m\u001b[1;33m=\u001b[0m\u001b[0maxis\u001b[0m\u001b[1;33m,\u001b[0m\u001b[1;33m\u001b[0m\u001b[1;33m\u001b[0m\u001b[0m\n",
      "\u001b[1;32m~\\anaconda3\\lib\\site-packages\\pandas\\core\\generic.py\u001b[0m in \u001b[0;36mdrop\u001b[1;34m(self, labels, axis, index, columns, level, inplace, errors)\u001b[0m\n\u001b[0;32m   4265\u001b[0m         \u001b[1;32mfor\u001b[0m \u001b[0maxis\u001b[0m\u001b[1;33m,\u001b[0m \u001b[0mlabels\u001b[0m \u001b[1;32min\u001b[0m \u001b[0maxes\u001b[0m\u001b[1;33m.\u001b[0m\u001b[0mitems\u001b[0m\u001b[1;33m(\u001b[0m\u001b[1;33m)\u001b[0m\u001b[1;33m:\u001b[0m\u001b[1;33m\u001b[0m\u001b[1;33m\u001b[0m\u001b[0m\n\u001b[0;32m   4266\u001b[0m             \u001b[1;32mif\u001b[0m \u001b[0mlabels\u001b[0m \u001b[1;32mis\u001b[0m \u001b[1;32mnot\u001b[0m \u001b[1;32mNone\u001b[0m\u001b[1;33m:\u001b[0m\u001b[1;33m\u001b[0m\u001b[1;33m\u001b[0m\u001b[0m\n\u001b[1;32m-> 4267\u001b[1;33m                 \u001b[0mobj\u001b[0m \u001b[1;33m=\u001b[0m \u001b[0mobj\u001b[0m\u001b[1;33m.\u001b[0m\u001b[0m_drop_axis\u001b[0m\u001b[1;33m(\u001b[0m\u001b[0mlabels\u001b[0m\u001b[1;33m,\u001b[0m \u001b[0maxis\u001b[0m\u001b[1;33m,\u001b[0m \u001b[0mlevel\u001b[0m\u001b[1;33m=\u001b[0m\u001b[0mlevel\u001b[0m\u001b[1;33m,\u001b[0m \u001b[0merrors\u001b[0m\u001b[1;33m=\u001b[0m\u001b[0merrors\u001b[0m\u001b[1;33m)\u001b[0m\u001b[1;33m\u001b[0m\u001b[1;33m\u001b[0m\u001b[0m\n\u001b[0m\u001b[0;32m   4268\u001b[0m \u001b[1;33m\u001b[0m\u001b[0m\n\u001b[0;32m   4269\u001b[0m         \u001b[1;32mif\u001b[0m \u001b[0minplace\u001b[0m\u001b[1;33m:\u001b[0m\u001b[1;33m\u001b[0m\u001b[1;33m\u001b[0m\u001b[0m\n",
      "\u001b[1;32m~\\anaconda3\\lib\\site-packages\\pandas\\core\\generic.py\u001b[0m in \u001b[0;36m_drop_axis\u001b[1;34m(self, labels, axis, level, errors, consolidate, only_slice)\u001b[0m\n\u001b[0;32m   4309\u001b[0m                 \u001b[0mnew_axis\u001b[0m \u001b[1;33m=\u001b[0m \u001b[0maxis\u001b[0m\u001b[1;33m.\u001b[0m\u001b[0mdrop\u001b[0m\u001b[1;33m(\u001b[0m\u001b[0mlabels\u001b[0m\u001b[1;33m,\u001b[0m \u001b[0mlevel\u001b[0m\u001b[1;33m=\u001b[0m\u001b[0mlevel\u001b[0m\u001b[1;33m,\u001b[0m \u001b[0merrors\u001b[0m\u001b[1;33m=\u001b[0m\u001b[0merrors\u001b[0m\u001b[1;33m)\u001b[0m\u001b[1;33m\u001b[0m\u001b[1;33m\u001b[0m\u001b[0m\n\u001b[0;32m   4310\u001b[0m             \u001b[1;32melse\u001b[0m\u001b[1;33m:\u001b[0m\u001b[1;33m\u001b[0m\u001b[1;33m\u001b[0m\u001b[0m\n\u001b[1;32m-> 4311\u001b[1;33m                 \u001b[0mnew_axis\u001b[0m \u001b[1;33m=\u001b[0m \u001b[0maxis\u001b[0m\u001b[1;33m.\u001b[0m\u001b[0mdrop\u001b[0m\u001b[1;33m(\u001b[0m\u001b[0mlabels\u001b[0m\u001b[1;33m,\u001b[0m \u001b[0merrors\u001b[0m\u001b[1;33m=\u001b[0m\u001b[0merrors\u001b[0m\u001b[1;33m)\u001b[0m\u001b[1;33m\u001b[0m\u001b[1;33m\u001b[0m\u001b[0m\n\u001b[0m\u001b[0;32m   4312\u001b[0m             \u001b[0mindexer\u001b[0m \u001b[1;33m=\u001b[0m \u001b[0maxis\u001b[0m\u001b[1;33m.\u001b[0m\u001b[0mget_indexer\u001b[0m\u001b[1;33m(\u001b[0m\u001b[0mnew_axis\u001b[0m\u001b[1;33m)\u001b[0m\u001b[1;33m\u001b[0m\u001b[1;33m\u001b[0m\u001b[0m\n\u001b[0;32m   4313\u001b[0m \u001b[1;33m\u001b[0m\u001b[0m\n",
      "\u001b[1;32m~\\anaconda3\\lib\\site-packages\\pandas\\core\\indexes\\base.py\u001b[0m in \u001b[0;36mdrop\u001b[1;34m(self, labels, errors)\u001b[0m\n\u001b[0;32m   6659\u001b[0m         \u001b[1;32mif\u001b[0m \u001b[0mmask\u001b[0m\u001b[1;33m.\u001b[0m\u001b[0many\u001b[0m\u001b[1;33m(\u001b[0m\u001b[1;33m)\u001b[0m\u001b[1;33m:\u001b[0m\u001b[1;33m\u001b[0m\u001b[1;33m\u001b[0m\u001b[0m\n\u001b[0;32m   6660\u001b[0m             \u001b[1;32mif\u001b[0m \u001b[0merrors\u001b[0m \u001b[1;33m!=\u001b[0m \u001b[1;34m\"ignore\"\u001b[0m\u001b[1;33m:\u001b[0m\u001b[1;33m\u001b[0m\u001b[1;33m\u001b[0m\u001b[0m\n\u001b[1;32m-> 6661\u001b[1;33m                 \u001b[1;32mraise\u001b[0m \u001b[0mKeyError\u001b[0m\u001b[1;33m(\u001b[0m\u001b[1;34mf\"{list(labels[mask])} not found in axis\"\u001b[0m\u001b[1;33m)\u001b[0m\u001b[1;33m\u001b[0m\u001b[1;33m\u001b[0m\u001b[0m\n\u001b[0m\u001b[0;32m   6662\u001b[0m             \u001b[0mindexer\u001b[0m \u001b[1;33m=\u001b[0m \u001b[0mindexer\u001b[0m\u001b[1;33m[\u001b[0m\u001b[1;33m~\u001b[0m\u001b[0mmask\u001b[0m\u001b[1;33m]\u001b[0m\u001b[1;33m\u001b[0m\u001b[1;33m\u001b[0m\u001b[0m\n\u001b[0;32m   6663\u001b[0m         \u001b[1;32mreturn\u001b[0m \u001b[0mself\u001b[0m\u001b[1;33m.\u001b[0m\u001b[0mdelete\u001b[0m\u001b[1;33m(\u001b[0m\u001b[0mindexer\u001b[0m\u001b[1;33m)\u001b[0m\u001b[1;33m\u001b[0m\u001b[1;33m\u001b[0m\u001b[0m\n",
      "\u001b[1;31mKeyError\u001b[0m: \"['Status', 'unnamed1'] not found in axis\""
     ]
    }
   ],
   "source": [
    "# Dropping Columns\n",
    "df.drop(['Status' , 'unnamed1'],axis =1, inplace = True)\n",
    "df.head(2)"
   ]
  },
  {
   "cell_type": "markdown",
   "id": "0864f18b",
   "metadata": {},
   "source": [
    "Amount"
   ]
  },
  {
   "cell_type": "code",
   "execution_count": 23,
   "id": "99577636",
   "metadata": {},
   "outputs": [],
   "source": [
    "# Changing the data type\n",
    "df['Amount'] = pd.to_numeric(df['Amount'], errors = 'coerce') \n",
    "# errors = coerce will convert unsupported values into null values"
   ]
  },
  {
   "cell_type": "code",
   "execution_count": 24,
   "id": "df644fdc",
   "metadata": {},
   "outputs": [],
   "source": [
    "# Dropping rows corresponding to null values in the columns : \n",
    "#['Amount', 'Orders', 'State', 'Zone', 'Product_ID', 'Product_Category']\n",
    "df.dropna(subset = ['Amount', 'Orders', 'State', 'Zone', 'Product_ID', 'Product_Category'], inplace = True)"
   ]
  },
  {
   "cell_type": "code",
   "execution_count": 25,
   "id": "673d178d",
   "metadata": {},
   "outputs": [
    {
     "data": {
      "text/plain": [
       "Unnamed: 0          0\n",
       "User_ID             0\n",
       "Cust_name           0\n",
       "Product_ID          0\n",
       "Gender              0\n",
       "Age Group           0\n",
       "Age                 0\n",
       "Marital_Status      0\n",
       "State               0\n",
       "Zone                0\n",
       "Occupation          0\n",
       "Product_Category    0\n",
       "Orders              0\n",
       "Amount              0\n",
       "marraige_status     0\n",
       "dtype: int64"
      ]
     },
     "execution_count": 25,
     "metadata": {},
     "output_type": "execute_result"
    }
   ],
   "source": [
    "df.isna().sum()"
   ]
  },
  {
   "cell_type": "markdown",
   "id": "090da96e",
   "metadata": {},
   "source": [
    "### State & Zone"
   ]
  },
  {
   "cell_type": "code",
   "execution_count": 26,
   "id": "4e665226",
   "metadata": {},
   "outputs": [],
   "source": [
    "# Replacing the type\n",
    "# df['State'].unique()\n",
    "df['State'] = df['State'].str.replace('Nndhra\\xa0Pradesh' , 'Andhra Pradesh')\n",
    "df['State'] = df['State'].str.replace('Andhra\\xa0Pradesh' , 'Andhra Pradesh')\n",
    "df['Zone'] = df['Zone'].str.replace('Zentral', 'Central')"
   ]
  },
  {
   "cell_type": "code",
   "execution_count": 27,
   "id": "1723086a",
   "metadata": {},
   "outputs": [
    {
     "data": {
      "text/plain": [
       "array(['Central', 'Southern', 'Western', 'Eastern', 'Northern'],\n",
       "      dtype=object)"
      ]
     },
     "execution_count": 27,
     "metadata": {},
     "output_type": "execute_result"
    }
   ],
   "source": [
    "df['Zone'].unique()"
   ]
  },
  {
   "cell_type": "markdown",
   "id": "8e31b35a",
   "metadata": {},
   "source": [
    "### Product_ID\n",
    "Already cleaned"
   ]
  },
  {
   "cell_type": "markdown",
   "id": "ef4de292",
   "metadata": {},
   "source": [
    "### Marital_Status"
   ]
  },
  {
   "cell_type": "code",
   "execution_count": 28,
   "id": "49c0876b",
   "metadata": {},
   "outputs": [],
   "source": [
    "# replacing the null values with mode\n",
    "marital_status_mode = df['Marital_Status'].mode()[0]\n",
    "marital_status_mode\n",
    "\n",
    "df['Marital_Status'] = df['Marital_Status'].fillna(marital_status_mode)"
   ]
  },
  {
   "cell_type": "code",
   "execution_count": 29,
   "id": "8e883ee1",
   "metadata": {},
   "outputs": [],
   "source": [
    "# Creating a new column with marital_status\n",
    "df['marraige_status'] = df['Marital_Status'].apply(lambda x: 'Married' if(x ==1) else 'Unmarried')"
   ]
  },
  {
   "cell_type": "code",
   "execution_count": 30,
   "id": "51525944",
   "metadata": {},
   "outputs": [
    {
     "data": {
      "text/plain": [
       "array([1., 0.])"
      ]
     },
     "execution_count": 30,
     "metadata": {},
     "output_type": "execute_result"
    }
   ],
   "source": [
    "df['Marital_Status'].unique()"
   ]
  },
  {
   "cell_type": "code",
   "execution_count": 31,
   "id": "2b4cab48",
   "metadata": {},
   "outputs": [
    {
     "data": {
      "text/html": [
       "<div>\n",
       "<style scoped>\n",
       "    .dataframe tbody tr th:only-of-type {\n",
       "        vertical-align: middle;\n",
       "    }\n",
       "\n",
       "    .dataframe tbody tr th {\n",
       "        vertical-align: top;\n",
       "    }\n",
       "\n",
       "    .dataframe thead th {\n",
       "        text-align: right;\n",
       "    }\n",
       "</style>\n",
       "<table border=\"1\" class=\"dataframe\">\n",
       "  <thead>\n",
       "    <tr style=\"text-align: right;\">\n",
       "      <th></th>\n",
       "      <th>Unnamed: 0</th>\n",
       "      <th>User_ID</th>\n",
       "      <th>Cust_name</th>\n",
       "      <th>Product_ID</th>\n",
       "      <th>Gender</th>\n",
       "      <th>Age Group</th>\n",
       "      <th>Age</th>\n",
       "      <th>Marital_Status</th>\n",
       "      <th>State</th>\n",
       "      <th>Zone</th>\n",
       "      <th>Occupation</th>\n",
       "      <th>Product_Category</th>\n",
       "      <th>Orders</th>\n",
       "      <th>Amount</th>\n",
       "      <th>marraige_status</th>\n",
       "    </tr>\n",
       "  </thead>\n",
       "  <tbody>\n",
       "    <tr>\n",
       "      <th>0</th>\n",
       "      <td>18</td>\n",
       "      <td>1001883.0</td>\n",
       "      <td>Praneet</td>\n",
       "      <td>P00029842</td>\n",
       "      <td>M</td>\n",
       "      <td>26-35</td>\n",
       "      <td>54.0</td>\n",
       "      <td>1.0</td>\n",
       "      <td>Uttar Pradesh</td>\n",
       "      <td>Central</td>\n",
       "      <td>Hospitality</td>\n",
       "      <td>Auto</td>\n",
       "      <td>1.0</td>\n",
       "      <td>23568.0</td>\n",
       "      <td>Married</td>\n",
       "    </tr>\n",
       "    <tr>\n",
       "      <th>1</th>\n",
       "      <td>19</td>\n",
       "      <td>1001883.0</td>\n",
       "      <td>Praneet</td>\n",
       "      <td>P00029842</td>\n",
       "      <td>M</td>\n",
       "      <td>26-35</td>\n",
       "      <td>54.0</td>\n",
       "      <td>1.0</td>\n",
       "      <td>Uttar Pradesh</td>\n",
       "      <td>Central</td>\n",
       "      <td>Hospitality</td>\n",
       "      <td>Auto</td>\n",
       "      <td>1.0</td>\n",
       "      <td>23568.0</td>\n",
       "      <td>Married</td>\n",
       "    </tr>\n",
       "    <tr>\n",
       "      <th>2</th>\n",
       "      <td>20</td>\n",
       "      <td>1000113.0</td>\n",
       "      <td>Ellis</td>\n",
       "      <td>P00180642</td>\n",
       "      <td>F</td>\n",
       "      <td>26-35</td>\n",
       "      <td>19.0</td>\n",
       "      <td>1.0</td>\n",
       "      <td>Andhra Pradesh</td>\n",
       "      <td>Southern</td>\n",
       "      <td>Govt</td>\n",
       "      <td>Auto</td>\n",
       "      <td>4.0</td>\n",
       "      <td>23546.0</td>\n",
       "      <td>Married</td>\n",
       "    </tr>\n",
       "  </tbody>\n",
       "</table>\n",
       "</div>"
      ],
      "text/plain": [
       "   Unnamed: 0    User_ID Cust_name Product_ID Gender Age Group   Age  \\\n",
       "0          18  1001883.0   Praneet  P00029842      M     26-35  54.0   \n",
       "1          19  1001883.0   Praneet  P00029842      M     26-35  54.0   \n",
       "2          20  1000113.0     Ellis  P00180642      F     26-35  19.0   \n",
       "\n",
       "   Marital_Status           State      Zone   Occupation Product_Category  \\\n",
       "0             1.0   Uttar Pradesh   Central  Hospitality             Auto   \n",
       "1             1.0   Uttar Pradesh   Central  Hospitality             Auto   \n",
       "2             1.0  Andhra Pradesh  Southern         Govt             Auto   \n",
       "\n",
       "   Orders   Amount marraige_status  \n",
       "0     1.0  23568.0         Married  \n",
       "1     1.0  23568.0         Married  \n",
       "2     4.0  23546.0         Married  "
      ]
     },
     "execution_count": 31,
     "metadata": {},
     "output_type": "execute_result"
    }
   ],
   "source": [
    "df.head(3)"
   ]
  },
  {
   "cell_type": "markdown",
   "id": "a00da66a",
   "metadata": {},
   "source": [
    "### Age"
   ]
  },
  {
   "cell_type": "code",
   "execution_count": 32,
   "id": "2adce981",
   "metadata": {},
   "outputs": [],
   "source": [
    "# Changing the data type from object to numeric\n",
    "df['Age'] = pd.to_numeric(df['Age'], errors = 'coerce')\n"
   ]
  },
  {
   "cell_type": "code",
   "execution_count": 33,
   "id": "7f5c647f",
   "metadata": {},
   "outputs": [
    {
     "data": {
      "text/plain": [
       "0"
      ]
     },
     "execution_count": 33,
     "metadata": {},
     "output_type": "execute_result"
    }
   ],
   "source": [
    "df['Age'].isnull().sum()"
   ]
  },
  {
   "cell_type": "code",
   "execution_count": 34,
   "id": "72b5941f",
   "metadata": {},
   "outputs": [],
   "source": [
    "# Replace the null values with mode\n",
    "age_mode = df['Age'].mode()[0]\n",
    "df['Age'] = df['Age'].fillna(age_mode)"
   ]
  },
  {
   "cell_type": "code",
   "execution_count": 35,
   "id": "6854812f",
   "metadata": {},
   "outputs": [
    {
     "data": {
      "text/plain": [
       "array([54., 19., 46., 30., 53., 83., 33., 40., 25., 39., 20., 32., 36.,\n",
       "       35., 55., 27., 72., 16., 45., 28., 21., 38., 37., 23., 34., 49.,\n",
       "       42., 24., 52., 50., 48., 31., 44., 43., 29., 26., 47., 41., 66.,\n",
       "       22., 15., 51., 77., 87., 79., 71., 88., 58., 82., 62., 92., 12.,\n",
       "       63., 17., 18., 13., 67., 90., 56., 75., 81., 64., 73., 84., 14.,\n",
       "       76., 86., 89., 68., 61., 91., 85., 70., 80., 65., 74., 69., 78.,\n",
       "       57., 60., 59.])"
      ]
     },
     "execution_count": 35,
     "metadata": {},
     "output_type": "execute_result"
    }
   ],
   "source": [
    "df['Age'].unique()"
   ]
  },
  {
   "cell_type": "markdown",
   "id": "292fe3c5",
   "metadata": {},
   "source": [
    "#### Age group"
   ]
  },
  {
   "cell_type": "code",
   "execution_count": 36,
   "id": "7054527f",
   "metadata": {},
   "outputs": [],
   "source": [
    "# Replacing null value and type with mode\n",
    "age_group_mode = df['Age Group'].mode()[0]\n",
    "age_group_mode\n",
    "df['Age Group'] = df['Age Group'].str.replace('low-high', age_group_mode)\n",
    "df['Age Group'] = df['Age Group'].fillna(age_group_mode)"
   ]
  },
  {
   "cell_type": "markdown",
   "id": "da37bc1c",
   "metadata": {},
   "source": [
    "#### Product_Category\n",
    "Already executed"
   ]
  },
  {
   "cell_type": "markdown",
   "id": "86173b83",
   "metadata": {},
   "source": [
    "#### User_ID , Gender & Occupation"
   ]
  },
  {
   "cell_type": "code",
   "execution_count": 37,
   "id": "7fd891aa",
   "metadata": {},
   "outputs": [],
   "source": [
    "# Replacing null values with mode\n",
    "gender_mode = df['Gender'].mode()[0]\n",
    "occupation_mode = df['Occupation'].mode()[0]\n",
    "df['Gender'] = df['Gender'].fillna(gender_mode)\n",
    "df['Occupation'] = df['Occupation'].fillna(occupation_mode)\n",
    "\n",
    "user_id_mode = df['User_ID'].mode()[0]\n",
    "df['User_ID'] = df['User_ID'].fillna(user_id_mode)"
   ]
  },
  {
   "cell_type": "code",
   "execution_count": 38,
   "id": "73317827",
   "metadata": {},
   "outputs": [
    {
     "name": "stdout",
     "output_type": "stream",
     "text": [
      "<class 'pandas.core.frame.DataFrame'>\n",
      "Int64Index: 11234 entries, 0 to 11233\n",
      "Data columns (total 15 columns):\n",
      " #   Column            Non-Null Count  Dtype  \n",
      "---  ------            --------------  -----  \n",
      " 0   Unnamed: 0        11234 non-null  int64  \n",
      " 1   User_ID           11234 non-null  float64\n",
      " 2   Cust_name         11234 non-null  object \n",
      " 3   Product_ID        11234 non-null  object \n",
      " 4   Gender            11234 non-null  object \n",
      " 5   Age Group         11234 non-null  object \n",
      " 6   Age               11234 non-null  float64\n",
      " 7   Marital_Status    11234 non-null  float64\n",
      " 8   State             11234 non-null  object \n",
      " 9   Zone              11234 non-null  object \n",
      " 10  Occupation        11234 non-null  object \n",
      " 11  Product_Category  11234 non-null  object \n",
      " 12  Orders            11234 non-null  float64\n",
      " 13  Amount            11234 non-null  float64\n",
      " 14  marraige_status   11234 non-null  object \n",
      "dtypes: float64(5), int64(1), object(9)\n",
      "memory usage: 1.4+ MB\n"
     ]
    }
   ],
   "source": [
    "df.info()"
   ]
  },
  {
   "cell_type": "code",
   "execution_count": 39,
   "id": "e14848b0",
   "metadata": {},
   "outputs": [
    {
     "data": {
      "text/plain": [
       "Unnamed: 0          0\n",
       "User_ID             0\n",
       "Cust_name           0\n",
       "Product_ID          0\n",
       "Gender              0\n",
       "Age Group           0\n",
       "Age                 0\n",
       "Marital_Status      0\n",
       "State               0\n",
       "Zone                0\n",
       "Occupation          0\n",
       "Product_Category    0\n",
       "Orders              0\n",
       "Amount              0\n",
       "marraige_status     0\n",
       "dtype: int64"
      ]
     },
     "execution_count": 39,
     "metadata": {},
     "output_type": "execute_result"
    }
   ],
   "source": [
    "df.isna().sum()"
   ]
  },
  {
   "cell_type": "markdown",
   "id": "285a3a51",
   "metadata": {},
   "source": [
    "Outliner Detection & Removal"
   ]
  },
  {
   "cell_type": "code",
   "execution_count": 40,
   "id": "5a4399e4",
   "metadata": {},
   "outputs": [
    {
     "data": {
      "text/html": [
       "<div>\n",
       "<style scoped>\n",
       "    .dataframe tbody tr th:only-of-type {\n",
       "        vertical-align: middle;\n",
       "    }\n",
       "\n",
       "    .dataframe tbody tr th {\n",
       "        vertical-align: top;\n",
       "    }\n",
       "\n",
       "    .dataframe thead th {\n",
       "        text-align: right;\n",
       "    }\n",
       "</style>\n",
       "<table border=\"1\" class=\"dataframe\">\n",
       "  <thead>\n",
       "    <tr style=\"text-align: right;\">\n",
       "      <th></th>\n",
       "      <th>Unnamed: 0</th>\n",
       "      <th>User_ID</th>\n",
       "      <th>Age</th>\n",
       "      <th>Marital_Status</th>\n",
       "      <th>Orders</th>\n",
       "      <th>Amount</th>\n",
       "    </tr>\n",
       "  </thead>\n",
       "  <tbody>\n",
       "    <tr>\n",
       "      <th>count</th>\n",
       "      <td>11234.000000</td>\n",
       "      <td>1.123400e+04</td>\n",
       "      <td>11234.000000</td>\n",
       "      <td>11234.000000</td>\n",
       "      <td>11234.000000</td>\n",
       "      <td>11234.000000</td>\n",
       "    </tr>\n",
       "    <tr>\n",
       "      <th>mean</th>\n",
       "      <td>5662.822503</td>\n",
       "      <td>1.007453e+06</td>\n",
       "      <td>35.433772</td>\n",
       "      <td>0.419708</td>\n",
       "      <td>2.489496</td>\n",
       "      <td>9452.764638</td>\n",
       "    </tr>\n",
       "    <tr>\n",
       "      <th>std</th>\n",
       "      <td>3246.094860</td>\n",
       "      <td>2.109026e+05</td>\n",
       "      <td>12.759432</td>\n",
       "      <td>0.493533</td>\n",
       "      <td>1.114845</td>\n",
       "      <td>5213.784648</td>\n",
       "    </tr>\n",
       "    <tr>\n",
       "      <th>min</th>\n",
       "      <td>18.000000</td>\n",
       "      <td>1.000001e+06</td>\n",
       "      <td>12.000000</td>\n",
       "      <td>0.000000</td>\n",
       "      <td>1.000000</td>\n",
       "      <td>188.000000</td>\n",
       "    </tr>\n",
       "    <tr>\n",
       "      <th>25%</th>\n",
       "      <td>2852.250000</td>\n",
       "      <td>1.001496e+06</td>\n",
       "      <td>27.000000</td>\n",
       "      <td>0.000000</td>\n",
       "      <td>2.000000</td>\n",
       "      <td>5443.000000</td>\n",
       "    </tr>\n",
       "    <tr>\n",
       "      <th>50%</th>\n",
       "      <td>5661.500000</td>\n",
       "      <td>1.003064e+06</td>\n",
       "      <td>33.000000</td>\n",
       "      <td>0.000000</td>\n",
       "      <td>2.000000</td>\n",
       "      <td>8109.500000</td>\n",
       "    </tr>\n",
       "    <tr>\n",
       "      <th>75%</th>\n",
       "      <td>8472.750000</td>\n",
       "      <td>1.004429e+06</td>\n",
       "      <td>43.000000</td>\n",
       "      <td>1.000000</td>\n",
       "      <td>3.000000</td>\n",
       "      <td>12681.500000</td>\n",
       "    </tr>\n",
       "    <tr>\n",
       "      <th>max</th>\n",
       "      <td>11333.000000</td>\n",
       "      <td>1.100173e+07</td>\n",
       "      <td>92.000000</td>\n",
       "      <td>1.000000</td>\n",
       "      <td>4.000000</td>\n",
       "      <td>23568.000000</td>\n",
       "    </tr>\n",
       "  </tbody>\n",
       "</table>\n",
       "</div>"
      ],
      "text/plain": [
       "         Unnamed: 0       User_ID           Age  Marital_Status        Orders  \\\n",
       "count  11234.000000  1.123400e+04  11234.000000    11234.000000  11234.000000   \n",
       "mean    5662.822503  1.007453e+06     35.433772        0.419708      2.489496   \n",
       "std     3246.094860  2.109026e+05     12.759432        0.493533      1.114845   \n",
       "min       18.000000  1.000001e+06     12.000000        0.000000      1.000000   \n",
       "25%     2852.250000  1.001496e+06     27.000000        0.000000      2.000000   \n",
       "50%     5661.500000  1.003064e+06     33.000000        0.000000      2.000000   \n",
       "75%     8472.750000  1.004429e+06     43.000000        1.000000      3.000000   \n",
       "max    11333.000000  1.100173e+07     92.000000        1.000000      4.000000   \n",
       "\n",
       "             Amount  \n",
       "count  11234.000000  \n",
       "mean    9452.764638  \n",
       "std     5213.784648  \n",
       "min      188.000000  \n",
       "25%     5443.000000  \n",
       "50%     8109.500000  \n",
       "75%    12681.500000  \n",
       "max    23568.000000  "
      ]
     },
     "execution_count": 40,
     "metadata": {},
     "output_type": "execute_result"
    }
   ],
   "source": [
    "df.describe()"
   ]
  },
  {
   "cell_type": "code",
   "execution_count": 41,
   "id": "ba70787e",
   "metadata": {},
   "outputs": [
    {
     "data": {
      "text/plain": [
       "Text(0.5, 1.0, \"Box plot for 'Amount'\")"
      ]
     },
     "execution_count": 41,
     "metadata": {},
     "output_type": "execute_result"
    },
    {
     "data": {
      "image/png": "[encoded data removed]",
      "text/plain": [
       "<Figure size 1000x600 with 2 Axes>"
      ]
     },
     "metadata": {},
     "output_type": "display_data"
    }
   ],
   "source": [
    "# Visualization of outliers\n",
    "fig,ax = plt.subplots(1,2, figsize = (10,6))\n",
    "sns.boxplot(data = df['Orders'], ax = ax[0])\n",
    "ax[0].set_title(\"Box plot for 'Orders'\")\n",
    "\n",
    "sns.boxplot(data = df['Amount'], ax = ax[1])\n",
    "ax[1].set_title(\"Box plot for 'Amount'\")\n"
   ]
  },
  {
   "cell_type": "markdown",
   "id": "eacc4fa6",
   "metadata": {},
   "source": [
    "Order\n"
   ]
  },
  {
   "cell_type": "code",
   "execution_count": 42,
   "id": "6accc947",
   "metadata": {},
   "outputs": [],
   "source": [
    "# Quartile\n",
    "Q1_order = np.quantile(df['Orders'], 0.25)\n",
    "Q3_order = np.quantile(df['Orders'], 0.75)\n",
    "IQR_order = Q3_order - Q1_order\n",
    "# IQR_order\n",
    "lower_limit_order = Q1_order - 1.5*IQR_order\n",
    "upper_limit_order = Q3_order + 1.5*IQR_order"
   ]
  },
  {
   "cell_type": "code",
   "execution_count": 43,
   "id": "3ffe9aa5",
   "metadata": {},
   "outputs": [],
   "source": [
    "# Removing the outliers\n",
    "df = df[(df['Orders'] > lower_limit_order) & (df['Orders'] < upper_limit_order)]"
   ]
  },
  {
   "cell_type": "markdown",
   "id": "db60d2e2",
   "metadata": {},
   "source": [
    "Amount"
   ]
  },
  {
   "cell_type": "code",
   "execution_count": 44,
   "id": "880adfb7",
   "metadata": {},
   "outputs": [
    {
     "name": "stdout",
     "output_type": "stream",
     "text": [
      "-5414.75\n",
      "23539.25\n"
     ]
    }
   ],
   "source": [
    "# Quartile\n",
    "Q1_amount = np.quantile(df['Amount'], 0.25)\n",
    "Q3_amount = np.quantile(df['Amount'], 0.75)\n",
    "IQR_amount = Q3_amount - Q1_amount\n",
    "#IQR_order\n",
    "lower_limit_amount = Q1_amount - 1.5*IQR_amount\n",
    "upper_limit_amount = Q3_amount + 1.5*IQR_amount\n",
    "\n",
    "print(lower_limit_amount)\n",
    "print(upper_limit_amount)"
   ]
  },
  {
   "cell_type": "code",
   "execution_count": 45,
   "id": "a2501611",
   "metadata": {},
   "outputs": [],
   "source": [
    "# Removing the outliers\n",
    "df = df[(df['Amount'] > lower_limit_amount) & (df['Amount'] < upper_limit_amount)]"
   ]
  },
  {
   "cell_type": "code",
   "execution_count": 46,
   "id": "57d6ba78",
   "metadata": {},
   "outputs": [
    {
     "data": {
      "text/html": [
       "<div>\n",
       "<style scoped>\n",
       "    .dataframe tbody tr th:only-of-type {\n",
       "        vertical-align: middle;\n",
       "    }\n",
       "\n",
       "    .dataframe tbody tr th {\n",
       "        vertical-align: top;\n",
       "    }\n",
       "\n",
       "    .dataframe thead th {\n",
       "        text-align: right;\n",
       "    }\n",
       "</style>\n",
       "<table border=\"1\" class=\"dataframe\">\n",
       "  <thead>\n",
       "    <tr style=\"text-align: right;\">\n",
       "      <th></th>\n",
       "      <th>Unnamed: 0</th>\n",
       "      <th>User_ID</th>\n",
       "      <th>Age</th>\n",
       "      <th>Marital_Status</th>\n",
       "      <th>Orders</th>\n",
       "      <th>Amount</th>\n",
       "    </tr>\n",
       "  </thead>\n",
       "  <tbody>\n",
       "    <tr>\n",
       "      <th>count</th>\n",
       "      <td>11231.000000</td>\n",
       "      <td>1.123100e+04</td>\n",
       "      <td>11231.000000</td>\n",
       "      <td>11231.000000</td>\n",
       "      <td>11231.000000</td>\n",
       "      <td>11231.000000</td>\n",
       "    </tr>\n",
       "    <tr>\n",
       "      <th>mean</th>\n",
       "      <td>5664.330069</td>\n",
       "      <td>1.007455e+06</td>\n",
       "      <td>35.431929</td>\n",
       "      <td>0.419553</td>\n",
       "      <td>2.489627</td>\n",
       "      <td>9448.996166</td>\n",
       "    </tr>\n",
       "    <tr>\n",
       "      <th>std</th>\n",
       "      <td>3245.217294</td>\n",
       "      <td>2.109308e+05</td>\n",
       "      <td>12.757788</td>\n",
       "      <td>0.493508</td>\n",
       "      <td>1.114725</td>\n",
       "      <td>5209.378851</td>\n",
       "    </tr>\n",
       "    <tr>\n",
       "      <th>min</th>\n",
       "      <td>21.000000</td>\n",
       "      <td>1.000001e+06</td>\n",
       "      <td>12.000000</td>\n",
       "      <td>0.000000</td>\n",
       "      <td>1.000000</td>\n",
       "      <td>188.000000</td>\n",
       "    </tr>\n",
       "    <tr>\n",
       "      <th>25%</th>\n",
       "      <td>2854.500000</td>\n",
       "      <td>1.001496e+06</td>\n",
       "      <td>27.000000</td>\n",
       "      <td>0.000000</td>\n",
       "      <td>2.000000</td>\n",
       "      <td>5443.000000</td>\n",
       "    </tr>\n",
       "    <tr>\n",
       "      <th>50%</th>\n",
       "      <td>5663.000000</td>\n",
       "      <td>1.003064e+06</td>\n",
       "      <td>33.000000</td>\n",
       "      <td>0.000000</td>\n",
       "      <td>2.000000</td>\n",
       "      <td>8109.000000</td>\n",
       "    </tr>\n",
       "    <tr>\n",
       "      <th>75%</th>\n",
       "      <td>8473.500000</td>\n",
       "      <td>1.004430e+06</td>\n",
       "      <td>43.000000</td>\n",
       "      <td>1.000000</td>\n",
       "      <td>3.000000</td>\n",
       "      <td>12677.500000</td>\n",
       "    </tr>\n",
       "    <tr>\n",
       "      <th>max</th>\n",
       "      <td>11333.000000</td>\n",
       "      <td>1.100173e+07</td>\n",
       "      <td>92.000000</td>\n",
       "      <td>1.000000</td>\n",
       "      <td>4.000000</td>\n",
       "      <td>23525.000000</td>\n",
       "    </tr>\n",
       "  </tbody>\n",
       "</table>\n",
       "</div>"
      ],
      "text/plain": [
       "         Unnamed: 0       User_ID           Age  Marital_Status        Orders  \\\n",
       "count  11231.000000  1.123100e+04  11231.000000    11231.000000  11231.000000   \n",
       "mean    5664.330069  1.007455e+06     35.431929        0.419553      2.489627   \n",
       "std     3245.217294  2.109308e+05     12.757788        0.493508      1.114725   \n",
       "min       21.000000  1.000001e+06     12.000000        0.000000      1.000000   \n",
       "25%     2854.500000  1.001496e+06     27.000000        0.000000      2.000000   \n",
       "50%     5663.000000  1.003064e+06     33.000000        0.000000      2.000000   \n",
       "75%     8473.500000  1.004430e+06     43.000000        1.000000      3.000000   \n",
       "max    11333.000000  1.100173e+07     92.000000        1.000000      4.000000   \n",
       "\n",
       "             Amount  \n",
       "count  11231.000000  \n",
       "mean    9448.996166  \n",
       "std     5209.378851  \n",
       "min      188.000000  \n",
       "25%     5443.000000  \n",
       "50%     8109.000000  \n",
       "75%    12677.500000  \n",
       "max    23525.000000  "
      ]
     },
     "execution_count": 46,
     "metadata": {},
     "output_type": "execute_result"
    }
   ],
   "source": [
    "df.describe()"
   ]
  },
  {
   "cell_type": "code",
   "execution_count": 47,
   "id": "13de4762",
   "metadata": {},
   "outputs": [],
   "source": [
    "# Saving the cleaned data\n",
    "df.to_csv(r\"C:\\Users\\Pracheeta\\Desktop\\training\\Diwali_sale_cleaned.csv\")"
   ]
  },
  {
   "cell_type": "markdown",
   "id": "ab884fe0",
   "metadata": {},
   "source": [
    "### Exploring data analysis"
   ]
  },
  {
   "cell_type": "markdown",
   "id": "9fef6d28",
   "metadata": {},
   "source": [
    "Statistical Analysis"
   ]
  },
  {
   "cell_type": "code",
   "execution_count": 48,
   "id": "a4cf75ef",
   "metadata": {},
   "outputs": [
    {
     "data": {
      "text/html": [
       "<div>\n",
       "<style scoped>\n",
       "    .dataframe tbody tr th:only-of-type {\n",
       "        vertical-align: middle;\n",
       "    }\n",
       "\n",
       "    .dataframe tbody tr th {\n",
       "        vertical-align: top;\n",
       "    }\n",
       "\n",
       "    .dataframe thead th {\n",
       "        text-align: right;\n",
       "    }\n",
       "</style>\n",
       "<table border=\"1\" class=\"dataframe\">\n",
       "  <thead>\n",
       "    <tr style=\"text-align: right;\">\n",
       "      <th></th>\n",
       "      <th>Unnamed: 0</th>\n",
       "      <th>User_ID</th>\n",
       "      <th>Cust_name</th>\n",
       "      <th>Product_ID</th>\n",
       "      <th>Gender</th>\n",
       "      <th>Age Group</th>\n",
       "      <th>Age</th>\n",
       "      <th>Marital_Status</th>\n",
       "      <th>State</th>\n",
       "      <th>Zone</th>\n",
       "      <th>Occupation</th>\n",
       "      <th>Product_Category</th>\n",
       "      <th>Orders</th>\n",
       "      <th>Amount</th>\n",
       "      <th>marraige_status</th>\n",
       "    </tr>\n",
       "  </thead>\n",
       "  <tbody>\n",
       "    <tr>\n",
       "      <th>3</th>\n",
       "      <td>21</td>\n",
       "      <td>1000416.0</td>\n",
       "      <td>Hrisheekesh</td>\n",
       "      <td>P00181842</td>\n",
       "      <td>F</td>\n",
       "      <td>26-35</td>\n",
       "      <td>46.0</td>\n",
       "      <td>1.0</td>\n",
       "      <td>Uttar Pradesh</td>\n",
       "      <td>Central</td>\n",
       "      <td>Banking</td>\n",
       "      <td>Auto</td>\n",
       "      <td>2.0</td>\n",
       "      <td>23525.0</td>\n",
       "      <td>Married</td>\n",
       "    </tr>\n",
       "    <tr>\n",
       "      <th>4</th>\n",
       "      <td>22</td>\n",
       "      <td>1005256.0</td>\n",
       "      <td>Grant</td>\n",
       "      <td>P00101742</td>\n",
       "      <td>F</td>\n",
       "      <td>26-35</td>\n",
       "      <td>30.0</td>\n",
       "      <td>0.0</td>\n",
       "      <td>Andhra Pradesh</td>\n",
       "      <td>Southern</td>\n",
       "      <td>IT Sector</td>\n",
       "      <td>Auto</td>\n",
       "      <td>1.0</td>\n",
       "      <td>23518.0</td>\n",
       "      <td>Unmarried</td>\n",
       "    </tr>\n",
       "  </tbody>\n",
       "</table>\n",
       "</div>"
      ],
      "text/plain": [
       "   Unnamed: 0    User_ID    Cust_name Product_ID Gender Age Group   Age  \\\n",
       "3          21  1000416.0  Hrisheekesh  P00181842      F     26-35  46.0   \n",
       "4          22  1005256.0        Grant  P00101742      F     26-35  30.0   \n",
       "\n",
       "   Marital_Status           State      Zone Occupation Product_Category  \\\n",
       "3             1.0   Uttar Pradesh   Central    Banking             Auto   \n",
       "4             0.0  Andhra Pradesh  Southern  IT Sector             Auto   \n",
       "\n",
       "   Orders   Amount marraige_status  \n",
       "3     2.0  23525.0         Married  \n",
       "4     1.0  23518.0       Unmarried  "
      ]
     },
     "execution_count": 48,
     "metadata": {},
     "output_type": "execute_result"
    }
   ],
   "source": [
    "df.head(2)"
   ]
  },
  {
   "cell_type": "code",
   "execution_count": 49,
   "id": "b7ebdb68",
   "metadata": {},
   "outputs": [
    {
     "data": {
      "text/html": [
       "<div>\n",
       "<style scoped>\n",
       "    .dataframe tbody tr th:only-of-type {\n",
       "        vertical-align: middle;\n",
       "    }\n",
       "\n",
       "    .dataframe tbody tr th {\n",
       "        vertical-align: top;\n",
       "    }\n",
       "\n",
       "    .dataframe thead th {\n",
       "        text-align: right;\n",
       "    }\n",
       "</style>\n",
       "<table border=\"1\" class=\"dataframe\">\n",
       "  <thead>\n",
       "    <tr style=\"text-align: right;\">\n",
       "      <th></th>\n",
       "      <th>Unnamed: 0</th>\n",
       "      <th>User_ID</th>\n",
       "      <th>Age</th>\n",
       "      <th>Marital_Status</th>\n",
       "      <th>Orders</th>\n",
       "      <th>Amount</th>\n",
       "    </tr>\n",
       "  </thead>\n",
       "  <tbody>\n",
       "    <tr>\n",
       "      <th>count</th>\n",
       "      <td>11231.000000</td>\n",
       "      <td>1.123100e+04</td>\n",
       "      <td>11231.000000</td>\n",
       "      <td>11231.000000</td>\n",
       "      <td>11231.000000</td>\n",
       "      <td>11231.000000</td>\n",
       "    </tr>\n",
       "    <tr>\n",
       "      <th>mean</th>\n",
       "      <td>5664.330069</td>\n",
       "      <td>1.007455e+06</td>\n",
       "      <td>35.431929</td>\n",
       "      <td>0.419553</td>\n",
       "      <td>2.489627</td>\n",
       "      <td>9448.996166</td>\n",
       "    </tr>\n",
       "    <tr>\n",
       "      <th>std</th>\n",
       "      <td>3245.217294</td>\n",
       "      <td>2.109308e+05</td>\n",
       "      <td>12.757788</td>\n",
       "      <td>0.493508</td>\n",
       "      <td>1.114725</td>\n",
       "      <td>5209.378851</td>\n",
       "    </tr>\n",
       "    <tr>\n",
       "      <th>min</th>\n",
       "      <td>21.000000</td>\n",
       "      <td>1.000001e+06</td>\n",
       "      <td>12.000000</td>\n",
       "      <td>0.000000</td>\n",
       "      <td>1.000000</td>\n",
       "      <td>188.000000</td>\n",
       "    </tr>\n",
       "    <tr>\n",
       "      <th>25%</th>\n",
       "      <td>2854.500000</td>\n",
       "      <td>1.001496e+06</td>\n",
       "      <td>27.000000</td>\n",
       "      <td>0.000000</td>\n",
       "      <td>2.000000</td>\n",
       "      <td>5443.000000</td>\n",
       "    </tr>\n",
       "    <tr>\n",
       "      <th>50%</th>\n",
       "      <td>5663.000000</td>\n",
       "      <td>1.003064e+06</td>\n",
       "      <td>33.000000</td>\n",
       "      <td>0.000000</td>\n",
       "      <td>2.000000</td>\n",
       "      <td>8109.000000</td>\n",
       "    </tr>\n",
       "    <tr>\n",
       "      <th>75%</th>\n",
       "      <td>8473.500000</td>\n",
       "      <td>1.004430e+06</td>\n",
       "      <td>43.000000</td>\n",
       "      <td>1.000000</td>\n",
       "      <td>3.000000</td>\n",
       "      <td>12677.500000</td>\n",
       "    </tr>\n",
       "    <tr>\n",
       "      <th>max</th>\n",
       "      <td>11333.000000</td>\n",
       "      <td>1.100173e+07</td>\n",
       "      <td>92.000000</td>\n",
       "      <td>1.000000</td>\n",
       "      <td>4.000000</td>\n",
       "      <td>23525.000000</td>\n",
       "    </tr>\n",
       "  </tbody>\n",
       "</table>\n",
       "</div>"
      ],
      "text/plain": [
       "         Unnamed: 0       User_ID           Age  Marital_Status        Orders  \\\n",
       "count  11231.000000  1.123100e+04  11231.000000    11231.000000  11231.000000   \n",
       "mean    5664.330069  1.007455e+06     35.431929        0.419553      2.489627   \n",
       "std     3245.217294  2.109308e+05     12.757788        0.493508      1.114725   \n",
       "min       21.000000  1.000001e+06     12.000000        0.000000      1.000000   \n",
       "25%     2854.500000  1.001496e+06     27.000000        0.000000      2.000000   \n",
       "50%     5663.000000  1.003064e+06     33.000000        0.000000      2.000000   \n",
       "75%     8473.500000  1.004430e+06     43.000000        1.000000      3.000000   \n",
       "max    11333.000000  1.100173e+07     92.000000        1.000000      4.000000   \n",
       "\n",
       "             Amount  \n",
       "count  11231.000000  \n",
       "mean    9448.996166  \n",
       "std     5209.378851  \n",
       "min      188.000000  \n",
       "25%     5443.000000  \n",
       "50%     8109.000000  \n",
       "75%    12677.500000  \n",
       "max    23525.000000  "
      ]
     },
     "execution_count": 49,
     "metadata": {},
     "output_type": "execute_result"
    }
   ],
   "source": [
    "df.describe()"
   ]
  },
  {
   "cell_type": "markdown",
   "id": "c937a42c",
   "metadata": {},
   "source": [
    "### Data visualization"
   ]
  },
  {
   "cell_type": "markdown",
   "id": "02eb898a",
   "metadata": {},
   "source": [
    "Gender Wise Analysis"
   ]
  },
  {
   "cell_type": "code",
   "execution_count": 50,
   "id": "816d1c45",
   "metadata": {},
   "outputs": [
    {
     "name": "stdout",
     "output_type": "stream",
     "text": [
      "Gender wise order count \n",
      "   Gender  Orders\n",
      "0      F    7834\n",
      "1      M    3397\n",
      "Gender wise Purchase Power \n",
      "   Gender       Amount\n",
      "0      F  74399443.94\n",
      "1      M  31722232.00\n"
     ]
    }
   ],
   "source": [
    "#Plot data\n",
    "data_gender_count = df.groupby(['Gender'], as_index = False)['Orders'].count()\n",
    "print(\"Gender wise order count \\n\", data_gender_count)\n",
    "\n",
    "data_gender_amount = df.groupby(['Gender'], as_index = False)['Amount'].sum()\n",
    "print(\"Gender wise Purchase Power \\n\", data_gender_amount)"
   ]
  },
  {
   "cell_type": "code",
   "execution_count": 51,
   "id": "e4ce38e2",
   "metadata": {},
   "outputs": [
    {
     "data": {
      "image/png": "[encoded data removed]",
      "text/plain": [
       "<Figure size 2000x800 with 2 Axes>"
      ]
     },
     "metadata": {},
     "output_type": "display_data"
    }
   ],
   "source": [
    "# Plotting\n",
    "fig,ax = plt.subplots(1,2, figsize = (20,8))\n",
    "\n",
    "# Pie Chart\n",
    "ax[0].pie(x = data_gender_count['Orders'], \n",
    "           labels = data_gender_count['Gender'], autopct = \"%1.2f%%\")\n",
    "ax[0].set_title(\"Gender Wise Order Count\")\n",
    "\n",
    "# Bar Chart\n",
    "sns.barplot(x = 'Gender', y = 'Amount', data = data_gender_amount, ax = ax[1])\n",
    "ax[1].set_title(\"Gender Wise Purchase Power\")\n",
    "plt.show()"
   ]
  },
  {
   "cell_type": "markdown",
   "id": "e5dd8b35",
   "metadata": {},
   "source": [
    "##### Conclusion:\n",
    "Females generally places more order and their purchase power is also higher"
   ]
  },
  {
   "cell_type": "markdown",
   "id": "528ed31a",
   "metadata": {},
   "source": [
    "Marital Status wise Analysis"
   ]
  },
  {
   "cell_type": "code",
   "execution_count": 52,
   "id": "650a1484",
   "metadata": {},
   "outputs": [
    {
     "data": {
      "text/html": [
       "<div>\n",
       "<style scoped>\n",
       "    .dataframe tbody tr th:only-of-type {\n",
       "        vertical-align: middle;\n",
       "    }\n",
       "\n",
       "    .dataframe tbody tr th {\n",
       "        vertical-align: top;\n",
       "    }\n",
       "\n",
       "    .dataframe thead th {\n",
       "        text-align: right;\n",
       "    }\n",
       "</style>\n",
       "<table border=\"1\" class=\"dataframe\">\n",
       "  <thead>\n",
       "    <tr style=\"text-align: right;\">\n",
       "      <th></th>\n",
       "      <th>marraige_status</th>\n",
       "      <th>Amount</th>\n",
       "    </tr>\n",
       "  </thead>\n",
       "  <tbody>\n",
       "    <tr>\n",
       "      <th>0</th>\n",
       "      <td>Married</td>\n",
       "      <td>43933256.00</td>\n",
       "    </tr>\n",
       "    <tr>\n",
       "      <th>1</th>\n",
       "      <td>Unmarried</td>\n",
       "      <td>62188419.94</td>\n",
       "    </tr>\n",
       "  </tbody>\n",
       "</table>\n",
       "</div>"
      ],
      "text/plain": [
       "  marraige_status       Amount\n",
       "0         Married  43933256.00\n",
       "1       Unmarried  62188419.94"
      ]
     },
     "execution_count": 52,
     "metadata": {},
     "output_type": "execute_result"
    }
   ],
   "source": [
    "# Plot data\n",
    "data_marraige_status_amount = df.groupby(['marraige_status'], as_index = False)['Amount'].sum()\n",
    "data_marraige_status_amount"
   ]
  },
  {
   "cell_type": "code",
   "execution_count": 53,
   "id": "85617347",
   "metadata": {},
   "outputs": [
    {
     "data": {
      "image/png": "[encoded data removed]",
      "text/plain": [
       "<Figure size 2000x800 with 2 Axes>"
      ]
     },
     "metadata": {},
     "output_type": "display_data"
    }
   ],
   "source": [
    "# Plots\n",
    "fig, ax = plt.subplots(1,2, figsize = (20,8))\n",
    "\n",
    "# Countplot\n",
    "sns.countplot( x = 'marraige_status', hue = 'Gender', data = df, ax = ax[0])\n",
    "ax[0].set_title('Order Count - Maraiage Status')\n",
    "\n",
    "# Barplot for purchase power\n",
    "sns.barplot(y = 'marraige_status', x = 'Amount', orient = 'h',\n",
    "            data = data_marraige_status_amount, ax = ax[1])\n",
    "ax[1].set_title('Purchase - Maraiage Status')\n",
    "\n",
    "plt.show()\n"
   ]
  },
  {
   "cell_type": "markdown",
   "id": "53f3e664",
   "metadata": {},
   "source": [
    "##### Conclusion: \n",
    "Unmarried female places more order, then married female and then unmarried male"
   ]
  },
  {
   "cell_type": "code",
   "execution_count": 54,
   "id": "bf9946be",
   "metadata": {},
   "outputs": [
    {
     "data": {
      "text/html": [
       "<div>\n",
       "<style scoped>\n",
       "    .dataframe tbody tr th:only-of-type {\n",
       "        vertical-align: middle;\n",
       "    }\n",
       "\n",
       "    .dataframe tbody tr th {\n",
       "        vertical-align: top;\n",
       "    }\n",
       "\n",
       "    .dataframe thead th {\n",
       "        text-align: right;\n",
       "    }\n",
       "</style>\n",
       "<table border=\"1\" class=\"dataframe\">\n",
       "  <thead>\n",
       "    <tr style=\"text-align: right;\">\n",
       "      <th></th>\n",
       "      <th>Unnamed: 0</th>\n",
       "      <th>User_ID</th>\n",
       "      <th>Cust_name</th>\n",
       "      <th>Product_ID</th>\n",
       "      <th>Gender</th>\n",
       "      <th>Age Group</th>\n",
       "      <th>Age</th>\n",
       "      <th>Marital_Status</th>\n",
       "      <th>State</th>\n",
       "      <th>Zone</th>\n",
       "      <th>Occupation</th>\n",
       "      <th>Product_Category</th>\n",
       "      <th>Orders</th>\n",
       "      <th>Amount</th>\n",
       "      <th>marraige_status</th>\n",
       "    </tr>\n",
       "  </thead>\n",
       "  <tbody>\n",
       "    <tr>\n",
       "      <th>3</th>\n",
       "      <td>21</td>\n",
       "      <td>1000416.0</td>\n",
       "      <td>Hrisheekesh</td>\n",
       "      <td>P00181842</td>\n",
       "      <td>F</td>\n",
       "      <td>26-35</td>\n",
       "      <td>46.0</td>\n",
       "      <td>1.0</td>\n",
       "      <td>Uttar Pradesh</td>\n",
       "      <td>Central</td>\n",
       "      <td>Banking</td>\n",
       "      <td>Auto</td>\n",
       "      <td>2.0</td>\n",
       "      <td>23525.0</td>\n",
       "      <td>Married</td>\n",
       "    </tr>\n",
       "    <tr>\n",
       "      <th>4</th>\n",
       "      <td>22</td>\n",
       "      <td>1005256.0</td>\n",
       "      <td>Grant</td>\n",
       "      <td>P00101742</td>\n",
       "      <td>F</td>\n",
       "      <td>26-35</td>\n",
       "      <td>30.0</td>\n",
       "      <td>0.0</td>\n",
       "      <td>Andhra Pradesh</td>\n",
       "      <td>Southern</td>\n",
       "      <td>IT Sector</td>\n",
       "      <td>Auto</td>\n",
       "      <td>1.0</td>\n",
       "      <td>23518.0</td>\n",
       "      <td>Unmarried</td>\n",
       "    </tr>\n",
       "  </tbody>\n",
       "</table>\n",
       "</div>"
      ],
      "text/plain": [
       "   Unnamed: 0    User_ID    Cust_name Product_ID Gender Age Group   Age  \\\n",
       "3          21  1000416.0  Hrisheekesh  P00181842      F     26-35  46.0   \n",
       "4          22  1005256.0        Grant  P00101742      F     26-35  30.0   \n",
       "\n",
       "   Marital_Status           State      Zone Occupation Product_Category  \\\n",
       "3             1.0   Uttar Pradesh   Central    Banking             Auto   \n",
       "4             0.0  Andhra Pradesh  Southern  IT Sector             Auto   \n",
       "\n",
       "   Orders   Amount marraige_status  \n",
       "3     2.0  23525.0         Married  \n",
       "4     1.0  23518.0       Unmarried  "
      ]
     },
     "execution_count": 54,
     "metadata": {},
     "output_type": "execute_result"
    }
   ],
   "source": [
    "df.head(2)"
   ]
  },
  {
   "cell_type": "markdown",
   "id": "d3409f21",
   "metadata": {},
   "source": [
    "Age Group Wise Analysis"
   ]
  },
  {
   "cell_type": "code",
   "execution_count": 55,
   "id": "5ac27214",
   "metadata": {},
   "outputs": [
    {
     "data": {
      "text/html": [
       "<div>\n",
       "<style scoped>\n",
       "    .dataframe tbody tr th:only-of-type {\n",
       "        vertical-align: middle;\n",
       "    }\n",
       "\n",
       "    .dataframe tbody tr th {\n",
       "        vertical-align: top;\n",
       "    }\n",
       "\n",
       "    .dataframe thead th {\n",
       "        text-align: right;\n",
       "    }\n",
       "</style>\n",
       "<table border=\"1\" class=\"dataframe\">\n",
       "  <thead>\n",
       "    <tr style=\"text-align: right;\">\n",
       "      <th></th>\n",
       "      <th>Age Group</th>\n",
       "      <th>Amount</th>\n",
       "    </tr>\n",
       "  </thead>\n",
       "  <tbody>\n",
       "    <tr>\n",
       "      <th>0</th>\n",
       "      <td>0-17</td>\n",
       "      <td>2696529.00</td>\n",
       "    </tr>\n",
       "    <tr>\n",
       "      <th>1</th>\n",
       "      <td>18-25</td>\n",
       "      <td>17032196.00</td>\n",
       "    </tr>\n",
       "    <tr>\n",
       "      <th>2</th>\n",
       "      <td>26-35</td>\n",
       "      <td>42533112.95</td>\n",
       "    </tr>\n",
       "    <tr>\n",
       "      <th>3</th>\n",
       "      <td>36-45</td>\n",
       "      <td>22234332.99</td>\n",
       "    </tr>\n",
       "    <tr>\n",
       "      <th>4</th>\n",
       "      <td>46-50</td>\n",
       "      <td>9245595.00</td>\n",
       "    </tr>\n",
       "    <tr>\n",
       "      <th>5</th>\n",
       "      <td>51-55</td>\n",
       "      <td>8278320.00</td>\n",
       "    </tr>\n",
       "    <tr>\n",
       "      <th>6</th>\n",
       "      <td>55+</td>\n",
       "      <td>4101590.00</td>\n",
       "    </tr>\n",
       "  </tbody>\n",
       "</table>\n",
       "</div>"
      ],
      "text/plain": [
       "  Age Group       Amount\n",
       "0      0-17   2696529.00\n",
       "1     18-25  17032196.00\n",
       "2     26-35  42533112.95\n",
       "3     36-45  22234332.99\n",
       "4     46-50   9245595.00\n",
       "5     51-55   8278320.00\n",
       "6       55+   4101590.00"
      ]
     },
     "execution_count": 55,
     "metadata": {},
     "output_type": "execute_result"
    }
   ],
   "source": [
    "# Plot data\n",
    "data_age_group_amount = df.groupby(['Age Group'], as_index = False)['Amount'].sum()\n",
    "data_age_group_amount"
   ]
  },
  {
   "cell_type": "code",
   "execution_count": 56,
   "id": "affd999f",
   "metadata": {},
   "outputs": [
    {
     "data": {
      "image/png": "[encoded data removed]",
      "text/plain": [
       "<Figure size 2000x800 with 2 Axes>"
      ]
     },
     "metadata": {},
     "output_type": "display_data"
    }
   ],
   "source": [
    "# Plots\n",
    "fig, ax = plt.subplots(1,2, figsize = (20,8))\n",
    "\n",
    "# Countplot\n",
    "sns.countplot( x = 'Age Group', data = df, ax = ax[0])\n",
    "ax[0].set_title('Order Count - Age Group')\n",
    "\n",
    "# Barplot for purchase power\n",
    "sns.barplot(y = 'Age Group', x = 'Amount', orient = 'h',\n",
    "            data = data_age_group_amount, ax = ax[1])\n",
    "ax[1].set_title('Purchase Power - Age Group')\n",
    "\n",
    "plt.show()\n"
   ]
  },
  {
   "cell_type": "markdown",
   "id": "29d0c15c",
   "metadata": {},
   "source": [
    "##### Conclusion:\n",
    "26-35 age group people places more order"
   ]
  },
  {
   "cell_type": "markdown",
   "id": "7c427d28",
   "metadata": {},
   "source": [
    "#### Analysis Parameter\n",
    "- Gender\n",
    "- marriage_Status\n",
    "- Age group\n",
    "- Product_Category\n",
    "- State\n",
    "- Product_ID\n",
    "- Occupation"
   ]
  },
  {
   "cell_type": "code",
   "execution_count": null,
   "id": "4aee4ec8",
   "metadata": {},
   "outputs": [],
   "source": []
  },
  {
   "cell_type": "code",
   "execution_count": null,
   "id": "28a8834f",
   "metadata": {},
   "outputs": [],
   "source": []
  },
  {
   "cell_type": "code",
   "execution_count": null,
   "id": "cfe2e41e",
   "metadata": {},
   "outputs": [],
   "source": []
  },
  {
   "cell_type": "code",
   "execution_count": null,
   "id": "91760324",
   "metadata": {},
   "outputs": [],
   "source": []
  },
  {
   "cell_type": "code",
   "execution_count": null,
   "id": "40e577f6",
   "metadata": {},
   "outputs": [],
   "source": []
  },
  {
   "cell_type": "code",
   "execution_count": null,
   "id": "c8797ef7",
   "metadata": {},
   "outputs": [],
   "source": []
  }
 ],
 "metadata": {
  "kernelspec": {
   "display_name": "Python 3 (ipykernel)",
   "language": "python",
   "name": "python3"
  },
  "language_info": {
   "codemirror_mode": {
    "name": "ipython",
    "version": 3
   },
   "file_extension": ".py",
   "mimetype": "text/x-python",
   "name": "python",
   "nbconvert_exporter": "python",
   "pygments_lexer": "ipython3",
   "version": "3.9.13"
  }
 },
 "nbformat": 4,
 "nbformat_minor": 5
}
